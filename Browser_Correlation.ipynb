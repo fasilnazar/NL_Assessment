{
 "cells": [
  {
   "cell_type": "markdown",
   "id": "1d552f3a",
   "metadata": {},
   "source": [
    "PART 1 - Q3\n",
    "Ranking Data - Understanding the co-relation between keyword rankings with description or any other attribute.\n",
    "Suggested questions:\n",
    "\n",
    "1.Is there any co-relation between short description, long description and ranking? \n",
    "2.Does the placement of keyword (for example - using a keyword in the first 10 words - have any co-relation with the ranking)?\n",
    "3.Does APP ID (Also known as package name) play any role in ranking?\n",
    "4.Any other pattern or good questions that you can think of and answer?"
   ]
  },
  {
   "cell_type": "code",
   "execution_count": 2,
   "id": "2a495cdb",
   "metadata": {},
   "outputs": [],
   "source": [
    "#Importing required libraries\n",
    "import pandas as pd\n",
    "import numpy as np\n",
    "import seaborn as sns\n",
    "import scipy.stats as stats\n",
    "import matplotlib.pyplot as plt\n",
    "import nltk\n",
    "from rake_nltk import Rake"
   ]
  },
  {
   "cell_type": "code",
   "execution_count": 3,
   "id": "4182bbb3",
   "metadata": {},
   "outputs": [],
   "source": [
    "browser_data =pd.read_csv(\"browser_rankings_data.csv\", header=[1]) "
   ]
  },
  {
   "cell_type": "code",
   "execution_count": 4,
   "id": "383f2f97",
   "metadata": {},
   "outputs": [
    {
     "data": {
      "text/html": [
       "<div>\n",
       "<style scoped>\n",
       "    .dataframe tbody tr th:only-of-type {\n",
       "        vertical-align: middle;\n",
       "    }\n",
       "\n",
       "    .dataframe tbody tr th {\n",
       "        vertical-align: top;\n",
       "    }\n",
       "\n",
       "    .dataframe thead th {\n",
       "        text-align: right;\n",
       "    }\n",
       "</style>\n",
       "<table border=\"1\" class=\"dataframe\">\n",
       "  <thead>\n",
       "    <tr style=\"text-align: right;\">\n",
       "      <th></th>\n",
       "      <th>ID</th>\n",
       "      <th>Keyword</th>\n",
       "      <th>Rank</th>\n",
       "      <th>Country</th>\n",
       "      <th>Language</th>\n",
       "      <th>Date</th>\n",
       "      <th>App ID</th>\n",
       "      <th>Date of Last Description Change</th>\n",
       "      <th>Short Description</th>\n",
       "      <th>Long Description</th>\n",
       "    </tr>\n",
       "  </thead>\n",
       "  <tbody>\n",
       "    <tr>\n",
       "      <th>0</th>\n",
       "      <td>1</td>\n",
       "      <td>browser</td>\n",
       "      <td>2.0</td>\n",
       "      <td>in</td>\n",
       "      <td>en</td>\n",
       "      <td>2020-12-16</td>\n",
       "      <td>net.fast.web.browser</td>\n",
       "      <td>2020-12-18</td>\n",
       "      <td>The small, fastest, secure Web Browser, best m...</td>\n",
       "      <td>One of the smallest, fastest, secure Web Brows...</td>\n",
       "    </tr>\n",
       "    <tr>\n",
       "      <th>1</th>\n",
       "      <td>2</td>\n",
       "      <td>browser</td>\n",
       "      <td>3.0</td>\n",
       "      <td>in</td>\n",
       "      <td>en</td>\n",
       "      <td>2020-12-16</td>\n",
       "      <td>com.android.chrome</td>\n",
       "      <td>2020-12-18</td>\n",
       "      <td>Fast, simple, and secure. Google Chrome browse...</td>\n",
       "      <td>Google Chrome is a fast, easy to use, and secu...</td>\n",
       "    </tr>\n",
       "    <tr>\n",
       "      <th>2</th>\n",
       "      <td>3</td>\n",
       "      <td>browser</td>\n",
       "      <td>4.0</td>\n",
       "      <td>in</td>\n",
       "      <td>en</td>\n",
       "      <td>2020-12-16</td>\n",
       "      <td>com.opera.browser</td>\n",
       "      <td>2021-02-27</td>\n",
       "      <td>Fast, safe web browser: free VPN, Ad blocker, ...</td>\n",
       "      <td>Fast, safe and private, introducing the latest...</td>\n",
       "    </tr>\n",
       "    <tr>\n",
       "      <th>3</th>\n",
       "      <td>3</td>\n",
       "      <td>browser</td>\n",
       "      <td>4.0</td>\n",
       "      <td>in</td>\n",
       "      <td>en</td>\n",
       "      <td>2020-12-16</td>\n",
       "      <td>com.opera.browser</td>\n",
       "      <td>2020-12-18</td>\n",
       "      <td>Fast, safe web browser: free VPN, Ad blocker, ...</td>\n",
       "      <td>Opera is a fast, safe web browser for your And...</td>\n",
       "    </tr>\n",
       "    <tr>\n",
       "      <th>4</th>\n",
       "      <td>4</td>\n",
       "      <td>browser</td>\n",
       "      <td>1.0</td>\n",
       "      <td>in</td>\n",
       "      <td>en</td>\n",
       "      <td>2020-12-16</td>\n",
       "      <td>com.cloudmosa.puffinTV</td>\n",
       "      <td>2021-02-07</td>\n",
       "      <td>Puffin TV Browser - One App to Watch All Video...</td>\n",
       "      <td>Puffin TV Browser is a special edition of Puff...</td>\n",
       "    </tr>\n",
       "  </tbody>\n",
       "</table>\n",
       "</div>"
      ],
      "text/plain": [
       "   ID  Keyword  Rank Country Language        Date                  App ID  \\\n",
       "0   1  browser   2.0      in       en  2020-12-16    net.fast.web.browser   \n",
       "1   2  browser   3.0      in       en  2020-12-16      com.android.chrome   \n",
       "2   3  browser   4.0      in       en  2020-12-16       com.opera.browser   \n",
       "3   3  browser   4.0      in       en  2020-12-16       com.opera.browser   \n",
       "4   4  browser   1.0      in       en  2020-12-16  com.cloudmosa.puffinTV   \n",
       "\n",
       "  Date of Last Description Change  \\\n",
       "0                      2020-12-18   \n",
       "1                      2020-12-18   \n",
       "2                      2021-02-27   \n",
       "3                      2020-12-18   \n",
       "4                      2021-02-07   \n",
       "\n",
       "                                   Short Description  \\\n",
       "0  The small, fastest, secure Web Browser, best m...   \n",
       "1  Fast, simple, and secure. Google Chrome browse...   \n",
       "2  Fast, safe web browser: free VPN, Ad blocker, ...   \n",
       "3  Fast, safe web browser: free VPN, Ad blocker, ...   \n",
       "4  Puffin TV Browser - One App to Watch All Video...   \n",
       "\n",
       "                                    Long Description  \n",
       "0  One of the smallest, fastest, secure Web Brows...  \n",
       "1  Google Chrome is a fast, easy to use, and secu...  \n",
       "2  Fast, safe and private, introducing the latest...  \n",
       "3  Opera is a fast, safe web browser for your And...  \n",
       "4  Puffin TV Browser is a special edition of Puff...  "
      ]
     },
     "execution_count": 4,
     "metadata": {},
     "output_type": "execute_result"
    }
   ],
   "source": [
    "browser_data.head()"
   ]
  },
  {
   "cell_type": "code",
   "execution_count": 5,
   "id": "0770d2f9",
   "metadata": {},
   "outputs": [
    {
     "data": {
      "text/plain": [
       "(3066, 10)"
      ]
     },
     "execution_count": 5,
     "metadata": {},
     "output_type": "execute_result"
    }
   ],
   "source": [
    "browser_data.shape"
   ]
  },
  {
   "cell_type": "code",
   "execution_count": 6,
   "id": "91e6ea09",
   "metadata": {},
   "outputs": [
    {
     "data": {
      "text/plain": [
       "ID                                  0\n",
       "Keyword                             0\n",
       "Rank                               16\n",
       "Country                             0\n",
       "Language                            0\n",
       "Date                                0\n",
       "App ID                              0\n",
       "Date of Last Description Change     0\n",
       "Short Description                   0\n",
       "Long Description                    0\n",
       "dtype: int64"
      ]
     },
     "execution_count": 6,
     "metadata": {},
     "output_type": "execute_result"
    }
   ],
   "source": [
    "#to find null datas\n",
    "browser_data.isnull().sum()"
   ]
  },
  {
   "cell_type": "code",
   "execution_count": 7,
   "id": "dcc40c12",
   "metadata": {},
   "outputs": [],
   "source": [
    "browser_data.dropna(how=\"any\",inplace=True)"
   ]
  },
  {
   "cell_type": "code",
   "execution_count": 8,
   "id": "edb13fff",
   "metadata": {},
   "outputs": [
    {
     "data": {
      "text/plain": [
       "ID                                 0\n",
       "Keyword                            0\n",
       "Rank                               0\n",
       "Country                            0\n",
       "Language                           0\n",
       "Date                               0\n",
       "App ID                             0\n",
       "Date of Last Description Change    0\n",
       "Short Description                  0\n",
       "Long Description                   0\n",
       "dtype: int64"
      ]
     },
     "execution_count": 8,
     "metadata": {},
     "output_type": "execute_result"
    }
   ],
   "source": [
    "browser_data.isnull().sum()"
   ]
  },
  {
   "cell_type": "code",
   "execution_count": 9,
   "id": "322f0ccc",
   "metadata": {},
   "outputs": [
    {
     "name": "stdout",
     "output_type": "stream",
     "text": [
      "<class 'pandas.core.frame.DataFrame'>\n",
      "Int64Index: 3050 entries, 0 to 3065\n",
      "Data columns (total 10 columns):\n",
      " #   Column                           Non-Null Count  Dtype  \n",
      "---  ------                           --------------  -----  \n",
      " 0   ID                               3050 non-null   int64  \n",
      " 1   Keyword                          3050 non-null   object \n",
      " 2   Rank                             3050 non-null   float64\n",
      " 3   Country                          3050 non-null   object \n",
      " 4   Language                         3050 non-null   object \n",
      " 5   Date                             3050 non-null   object \n",
      " 6   App ID                           3050 non-null   object \n",
      " 7   Date of Last Description Change  3050 non-null   object \n",
      " 8   Short Description                3050 non-null   object \n",
      " 9   Long Description                 3050 non-null   object \n",
      "dtypes: float64(1), int64(1), object(8)\n",
      "memory usage: 262.1+ KB\n"
     ]
    }
   ],
   "source": [
    "browser_data.info()"
   ]
  },
  {
   "cell_type": "code",
   "execution_count": 10,
   "id": "ae7ccbc2",
   "metadata": {},
   "outputs": [],
   "source": [
    "#rank is in float\n",
    "browser_data = browser_data.astype({\"Rank\": int})"
   ]
  },
  {
   "cell_type": "code",
   "execution_count": 11,
   "id": "af1d7e2d",
   "metadata": {},
   "outputs": [],
   "source": [
    "#no need of ID column\n",
    "browser_data.drop(\"ID\",axis=1,inplace=True)"
   ]
  },
  {
   "cell_type": "markdown",
   "id": "a9e1f52a",
   "metadata": {},
   "source": [
    "to find the Correlation between short description, long description and ranking "
   ]
  },
  {
   "cell_type": "code",
   "execution_count": 12,
   "id": "add34be2",
   "metadata": {},
   "outputs": [
    {
     "data": {
      "text/plain": [
       "Index(['Keyword', 'Rank', 'Country', 'Language', 'Date', 'App ID',\n",
       "       'Date of Last Description Change', 'Short Description',\n",
       "       'Long Description'],\n",
       "      dtype='object')"
      ]
     },
     "execution_count": 12,
     "metadata": {},
     "output_type": "execute_result"
    }
   ],
   "source": [
    "browser_data.columns"
   ]
  },
  {
   "cell_type": "markdown",
   "id": "cf656faf",
   "metadata": {},
   "source": [
    "All these coloumns are categorical. we need to perform chi-square correlation"
   ]
  },
  {
   "cell_type": "markdown",
   "id": "29f39366",
   "metadata": {},
   "source": [
    "to find correlation b/w Short Description and long Description.\n",
    "set p value as .05..\n",
    "Null hypothesis: there is no correlation.\n",
    "Alternative Hypothesis: there is correlation.\n",
    "if p< 0.05 there is correlation"
   ]
  },
  {
   "cell_type": "code",
   "execution_count": 13,
   "id": "31ad5f3d",
   "metadata": {},
   "outputs": [
    {
     "name": "stdout",
     "output_type": "stream",
     "text": [
      "P value:0.0\n",
      "chi-square value:24400.000000000004\n"
     ]
    }
   ],
   "source": [
    "correlation = pd.crosstab(browser_data['Short Description'], browser_data['Long Description'])\n",
    "stat,p,dof,expected=stats.chi2_contingency(correlation)\n",
    "print(f\"P value:{p}\")\n",
    "print(f\"chi-square value:{stat}\")"
   ]
  },
  {
   "cell_type": "markdown",
   "id": "e5def34a",
   "metadata": {},
   "source": [
    "Short Description and Long Description are Correlated"
   ]
  },
  {
   "cell_type": "code",
   "execution_count": 14,
   "id": "244728ea",
   "metadata": {},
   "outputs": [],
   "source": [
    "#checking ranking and Short Description are correlated"
   ]
  },
  {
   "cell_type": "code",
   "execution_count": 15,
   "id": "f90f751f",
   "metadata": {},
   "outputs": [
    {
     "name": "stdout",
     "output_type": "stream",
     "text": [
      "P value:0.0\n",
      "chi-square value:6067.446466498302\n"
     ]
    }
   ],
   "source": [
    "correlation = pd.crosstab(browser_data['Short Description'], browser_data['Rank'])\n",
    "stat,p,dof,expected=stats.chi2_contingency(correlation)\n",
    "print(f\"P value:{p}\")\n",
    "print(f\"chi-square value:{stat}\")"
   ]
  },
  {
   "cell_type": "markdown",
   "id": "615459d9",
   "metadata": {},
   "source": [
    "Ranking and Short Description are correlated"
   ]
  },
  {
   "cell_type": "code",
   "execution_count": 16,
   "id": "df05f2fd",
   "metadata": {},
   "outputs": [
    {
     "name": "stdout",
     "output_type": "stream",
     "text": [
      "P value:0.0\n",
      "chi-square value:3290.616855972886\n"
     ]
    }
   ],
   "source": [
    "correlation = pd.crosstab(browser_data['Keyword'], browser_data['Rank'])\n",
    "stat,p,dof,expected=stats.chi2_contingency(correlation)\n",
    "print(f\"P value:{p}\")\n",
    "print(f\"chi-square value:{stat}\")"
   ]
  },
  {
   "cell_type": "markdown",
   "id": "3d7ce12d",
   "metadata": {},
   "source": [
    "Keyword and Rank are correlated"
   ]
  },
  {
   "cell_type": "code",
   "execution_count": 17,
   "id": "0d51104e",
   "metadata": {},
   "outputs": [
    {
     "name": "stdout",
     "output_type": "stream",
     "text": [
      "P value:0.0\n",
      "chi-square value:6067.446466498302\n"
     ]
    }
   ],
   "source": [
    "correlation = pd.crosstab(browser_data['App ID'], browser_data['Rank'])\n",
    "stat,p,dof,expected=stats.chi2_contingency(correlation)\n",
    "print(f\"P value:{p}\")\n",
    "print(f\"chi-square value:{stat}\")"
   ]
  },
  {
   "cell_type": "markdown",
   "id": "f0f05cbd",
   "metadata": {},
   "source": [
    "App id and Rank is also correlated"
   ]
  },
  {
   "cell_type": "code",
   "execution_count": null,
   "id": "277cbc9c",
   "metadata": {},
   "outputs": [],
   "source": []
  }
 ],
 "metadata": {
  "kernelspec": {
   "display_name": "Python 3 (ipykernel)",
   "language": "python",
   "name": "python3"
  },
  "language_info": {
   "codemirror_mode": {
    "name": "ipython",
    "version": 3
   },
   "file_extension": ".py",
   "mimetype": "text/x-python",
   "name": "python",
   "nbconvert_exporter": "python",
   "pygments_lexer": "ipython3",
   "version": "3.9.12"
  }
 },
 "nbformat": 4,
 "nbformat_minor": 5
}
